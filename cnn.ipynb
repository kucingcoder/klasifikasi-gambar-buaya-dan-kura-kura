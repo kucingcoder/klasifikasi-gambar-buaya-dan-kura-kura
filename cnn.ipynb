{
 "cells": [
  {
   "cell_type": "markdown",
   "metadata": {},
   "source": [
    "# PERSIAPKAN DATA"
   ]
  },
  {
   "cell_type": "markdown",
   "metadata": {},
   "source": [
    "Membersihkan Lingkungan Dari Data Sebelumnya"
   ]
  },
  {
   "cell_type": "code",
   "execution_count": 1,
   "metadata": {},
   "outputs": [],
   "source": [
    "import os, shutil\n",
    "\n",
    "if os.path.exists('data.zip'): os.remove('data.zip')\n",
    "if os.path.exists('data'): shutil.rmtree('data')"
   ]
  },
  {
   "cell_type": "markdown",
   "metadata": {},
   "source": [
    "Download Data Yang Akan Dijadikan Dataset"
   ]
  },
  {
   "cell_type": "code",
   "execution_count": 2,
   "metadata": {},
   "outputs": [
    {
     "name": "stderr",
     "output_type": "stream",
     "text": [
      "Downloading...\n",
      "From (original): https://drive.google.com/uc?id=1w4p9ugXJrUV-qmxt6UyJZLAzj0uefIvZ\n",
      "From (redirected): https://drive.google.com/uc?id=1w4p9ugXJrUV-qmxt6UyJZLAzj0uefIvZ&confirm=t&uuid=961adc40-7766-4f86-9f61-5685b8a23c2c\n",
      "To: d:\\Model Pembelajaran Mesin\\klasifikasi-gambar-buaya-dan-kura-kura\\data.zip\n",
      "100%|██████████| 62.9M/62.9M [01:03<00:00, 993kB/s] \n"
     ]
    }
   ],
   "source": [
    "import os, gdown\n",
    "from zipfile import ZipFile\n",
    "\n",
    "gdown.download('https://drive.google.com/uc?id=1w4p9ugXJrUV-qmxt6UyJZLAzj0uefIvZ', 'data.zip', quiet=False)\n",
    "\n",
    "if not os.path.exists('data'): os.makedirs(\"data\")\n",
    "\n",
    "with ZipFile('data.zip', 'r') as zObject:\n",
    "\tzObject.extractall('data')"
   ]
  },
  {
   "cell_type": "markdown",
   "metadata": {},
   "source": [
    "# AUGMENTASI GAMBAR"
   ]
  },
  {
   "cell_type": "markdown",
   "metadata": {},
   "source": [
    "Generator untuk membuat gambar menjadi lebih variatif dan menentukan besar data yang digunakan untuk validasi"
   ]
  },
  {
   "cell_type": "code",
   "execution_count": 3,
   "metadata": {},
   "outputs": [
    {
     "name": "stdout",
     "output_type": "stream",
     "text": [
      "WARNING:tensorflow:From c:\\Users\\Hanif\\AppData\\Local\\Programs\\Python\\Python311\\Lib\\site-packages\\keras\\src\\losses.py:2976: The name tf.losses.sparse_softmax_cross_entropy is deprecated. Please use tf.compat.v1.losses.sparse_softmax_cross_entropy instead.\n",
      "\n"
     ]
    }
   ],
   "source": [
    "from tensorflow.keras.preprocessing.image import ImageDataGenerator\n",
    "\n",
    "datagen = ImageDataGenerator(\n",
    "    rescale = 1./255,\n",
    "    rotation_range = 20,\n",
    "    horizontal_flip = True,\n",
    "    shear_range = 0.2,\n",
    "    fill_mode = 'nearest',\n",
    "    validation_split = 0.2\n",
    ")"
   ]
  },
  {
   "cell_type": "markdown",
   "metadata": {},
   "source": [
    "# DATASET"
   ]
  },
  {
   "cell_type": "markdown",
   "metadata": {},
   "source": [
    "Ubah Data Menjadi Dataset Training & Validation"
   ]
  },
  {
   "cell_type": "code",
   "execution_count": 4,
   "metadata": {},
   "outputs": [
    {
     "name": "stdout",
     "output_type": "stream",
     "text": [
      "Found 2044 images belonging to 2 classes.\n",
      "Found 510 images belonging to 2 classes.\n"
     ]
    }
   ],
   "source": [
    "lokasi = 'data'\n",
    "\n",
    "training = datagen.flow_from_directory(\n",
    "    lokasi,\n",
    "    target_size = (50, 50),\n",
    "    class_mode = 'binary',\n",
    "    subset = 'training'\n",
    ")\n",
    "\n",
    "validation = datagen.flow_from_directory(\n",
    "    lokasi,\n",
    "    target_size = (50, 50),\n",
    "    class_mode = 'binary',\n",
    "    subset = 'validation'\n",
    ")"
   ]
  },
  {
   "cell_type": "markdown",
   "metadata": {},
   "source": [
    "# MODEL CNN"
   ]
  },
  {
   "cell_type": "markdown",
   "metadata": {},
   "source": [
    "Build Model Sequential Untuk Klasifikasi 2 Gambar (biner) dengan 3 layer neuron dan 1 output"
   ]
  },
  {
   "cell_type": "code",
   "execution_count": 5,
   "metadata": {},
   "outputs": [
    {
     "name": "stdout",
     "output_type": "stream",
     "text": [
      "WARNING:tensorflow:From c:\\Users\\Hanif\\AppData\\Local\\Programs\\Python\\Python311\\Lib\\site-packages\\keras\\src\\backend.py:873: The name tf.get_default_graph is deprecated. Please use tf.compat.v1.get_default_graph instead.\n",
      "\n",
      "WARNING:tensorflow:From c:\\Users\\Hanif\\AppData\\Local\\Programs\\Python\\Python311\\Lib\\site-packages\\keras\\src\\layers\\pooling\\max_pooling2d.py:161: The name tf.nn.max_pool is deprecated. Please use tf.nn.max_pool2d instead.\n",
      "\n",
      "Model: \"sequential\"\n",
      "_________________________________________________________________\n",
      " Layer (type)                Output Shape              Param #   \n",
      "=================================================================\n",
      " conv2d (Conv2D)             (None, 48, 48, 32)        896       \n",
      "                                                                 \n",
      " max_pooling2d (MaxPooling2  (None, 24, 24, 32)        0         \n",
      " D)                                                              \n",
      "                                                                 \n",
      " dropout (Dropout)           (None, 24, 24, 32)        0         \n",
      "                                                                 \n",
      " conv2d_1 (Conv2D)           (None, 22, 22, 64)        18496     \n",
      "                                                                 \n",
      " max_pooling2d_1 (MaxPoolin  (None, 11, 11, 64)        0         \n",
      " g2D)                                                            \n",
      "                                                                 \n",
      " dropout_1 (Dropout)         (None, 11, 11, 64)        0         \n",
      "                                                                 \n",
      " conv2d_2 (Conv2D)           (None, 9, 9, 128)         73856     \n",
      "                                                                 \n",
      " max_pooling2d_2 (MaxPoolin  (None, 4, 4, 128)         0         \n",
      " g2D)                                                            \n",
      "                                                                 \n",
      " dropout_2 (Dropout)         (None, 4, 4, 128)         0         \n",
      "                                                                 \n",
      " flatten (Flatten)           (None, 2048)              0         \n",
      "                                                                 \n",
      " batch_normalization (Batch  (None, 2048)              8192      \n",
      " Normalization)                                                  \n",
      "                                                                 \n",
      " dense (Dense)               (None, 256)               524544    \n",
      "                                                                 \n",
      " dense_1 (Dense)             (None, 1)                 257       \n",
      "                                                                 \n",
      "=================================================================\n",
      "Total params: 626241 (2.39 MB)\n",
      "Trainable params: 622145 (2.37 MB)\n",
      "Non-trainable params: 4096 (16.00 KB)\n",
      "_________________________________________________________________\n",
      "WARNING:tensorflow:From c:\\Users\\Hanif\\AppData\\Local\\Programs\\Python\\Python311\\Lib\\site-packages\\keras\\src\\optimizers\\__init__.py:309: The name tf.train.Optimizer is deprecated. Please use tf.compat.v1.train.Optimizer instead.\n",
      "\n"
     ]
    }
   ],
   "source": [
    "from tensorflow import keras\n",
    "\n",
    "model = keras.Sequential()\n",
    "\n",
    "model.add(keras.layers.Conv2D(32, (3, 3), activation='relu', input_shape=(50, 50, 3)))\n",
    "model.add(keras.layers.MaxPool2D(2, 2))\n",
    "model.add(keras.layers.Dropout(0.25))\n",
    "\n",
    "model.add(keras.layers.Conv2D(64, (3, 3), activation='relu'))\n",
    "model.add(keras.layers.MaxPool2D(2, 2))\n",
    "model.add(keras.layers.Dropout(0.25))\n",
    "\n",
    "model.add(keras.layers.Conv2D(128, (3, 3), activation='relu'))\n",
    "model.add(keras.layers.MaxPool2D(2, 2))\n",
    "model.add(keras.layers.Dropout(0.25))\n",
    "\n",
    "model.add(keras.layers.Flatten())\n",
    "model.add(keras.layers.BatchNormalization())\n",
    "\n",
    "model.add(keras.layers.Dense(256, activation='relu'))\n",
    "model.add(keras.layers.Dense(1, activation='sigmoid'))\n",
    "\n",
    "model.summary()\n",
    "\n",
    "model.compile(optimizer='adam', loss='binary_crossentropy', metrics=['accuracy'])"
   ]
  },
  {
   "cell_type": "markdown",
   "metadata": {},
   "source": [
    "# LATIH"
   ]
  },
  {
   "cell_type": "markdown",
   "metadata": {},
   "source": [
    "Model Yang Sudah Dibuat Dilatih Memakai Dataset Training Dan Validation"
   ]
  },
  {
   "cell_type": "code",
   "execution_count": 6,
   "metadata": {},
   "outputs": [
    {
     "name": "stdout",
     "output_type": "stream",
     "text": [
      "Epoch 1/100\n",
      "WARNING:tensorflow:From c:\\Users\\Hanif\\AppData\\Local\\Programs\\Python\\Python311\\Lib\\site-packages\\keras\\src\\utils\\tf_utils.py:492: The name tf.ragged.RaggedTensorValue is deprecated. Please use tf.compat.v1.ragged.RaggedTensorValue instead.\n",
      "\n",
      "WARNING:tensorflow:From c:\\Users\\Hanif\\AppData\\Local\\Programs\\Python\\Python311\\Lib\\site-packages\\keras\\src\\engine\\base_layer_utils.py:384: The name tf.executing_eagerly_outside_functions is deprecated. Please use tf.compat.v1.executing_eagerly_outside_functions instead.\n",
      "\n",
      "64/64 [==============================] - 32s 445ms/step - loss: 0.7265 - accuracy: 0.6600 - val_loss: 0.6560 - val_accuracy: 0.6765\n",
      "Epoch 2/100\n",
      "64/64 [==============================] - 10s 157ms/step - loss: 0.6607 - accuracy: 0.6766 - val_loss: 0.5878 - val_accuracy: 0.7294\n",
      "Epoch 3/100\n",
      "64/64 [==============================] - 10s 157ms/step - loss: 0.5655 - accuracy: 0.7197 - val_loss: 0.5550 - val_accuracy: 0.7314\n",
      "Epoch 4/100\n",
      "64/64 [==============================] - 11s 172ms/step - loss: 0.5162 - accuracy: 0.7461 - val_loss: 0.5456 - val_accuracy: 0.7314\n",
      "Epoch 5/100\n",
      "64/64 [==============================] - 12s 187ms/step - loss: 0.4966 - accuracy: 0.7593 - val_loss: 0.5036 - val_accuracy: 0.7392\n",
      "Epoch 6/100\n",
      "64/64 [==============================] - 10s 161ms/step - loss: 0.4830 - accuracy: 0.7657 - val_loss: 0.6691 - val_accuracy: 0.5627\n",
      "Epoch 7/100\n",
      "64/64 [==============================] - 11s 163ms/step - loss: 0.4717 - accuracy: 0.7828 - val_loss: 0.4408 - val_accuracy: 0.8078\n",
      "Epoch 8/100\n",
      "64/64 [==============================] - 10s 157ms/step - loss: 0.4619 - accuracy: 0.7779 - val_loss: 0.4660 - val_accuracy: 0.7667\n",
      "Epoch 9/100\n",
      "64/64 [==============================] - 10s 158ms/step - loss: 0.4608 - accuracy: 0.7798 - val_loss: 0.4228 - val_accuracy: 0.8275\n",
      "Epoch 10/100\n",
      "64/64 [==============================] - 10s 159ms/step - loss: 0.4507 - accuracy: 0.7916 - val_loss: 0.5927 - val_accuracy: 0.7588\n",
      "Epoch 11/100\n",
      "64/64 [==============================] - 11s 178ms/step - loss: 0.4552 - accuracy: 0.7886 - val_loss: 0.4358 - val_accuracy: 0.7706\n",
      "Epoch 12/100\n",
      "64/64 [==============================] - 11s 170ms/step - loss: 0.4476 - accuracy: 0.7872 - val_loss: 0.6883 - val_accuracy: 0.5784\n",
      "Epoch 13/100\n",
      "31/64 [=============>................] - ETA: 8s - loss: 0.4400 - accuracy: 0.7905"
     ]
    }
   ],
   "source": [
    "import tensorflow as tf\n",
    "\n",
    "accuracy_threshold = 85e-2\n",
    "class my_callbacks(tf.keras.callbacks.Callback):\n",
    "    def on_epoch_end(self, epoch, logs = None):\n",
    "        if logs.get('val_accuracy') >= accuracy_threshold:\n",
    "            self.model.stop_training = True\n",
    "            \n",
    "history = model.fit(training, steps_per_epoch=64, epochs=100, validation_data=validation, callbacks=[my_callbacks()])"
   ]
  },
  {
   "cell_type": "markdown",
   "metadata": {},
   "source": [
    "Grafik Riwayat Pelatihan"
   ]
  },
  {
   "cell_type": "code",
   "execution_count": null,
   "metadata": {},
   "outputs": [],
   "source": [
    "import matplotlib.pyplot as plt\n",
    "\n",
    "accuracy = history.history['val_accuracy']\n",
    "loss = history.history['val_loss']\n",
    "\n",
    "plt.plot(accuracy, color='blue', label='Akurasi')\n",
    "plt.plot(loss, color='red', label='Loss')\n",
    "plt.xlabel('Epoch')\n",
    "plt.ylabel('Nilai')\n",
    "plt.title('Riwayat Pelatihan Model')\n",
    "plt.legend()\n",
    "plt.show()"
   ]
  },
  {
   "cell_type": "markdown",
   "metadata": {},
   "source": [
    "Cek Akurasi Model"
   ]
  },
  {
   "cell_type": "code",
   "execution_count": null,
   "metadata": {},
   "outputs": [],
   "source": [
    "eval_result = model.evaluate(validation)\n",
    "\n",
    "accuracy = eval_result[1]\n",
    "print(f'\\nAkurasi Model: {accuracy * 100:.2f} %')"
   ]
  },
  {
   "cell_type": "markdown",
   "metadata": {},
   "source": [
    "# Evaluasi"
   ]
  },
  {
   "cell_type": "markdown",
   "metadata": {},
   "source": [
    "Menguji Model Dengan Berbagai Kemungkinan Gambar Di Luar Dataset"
   ]
  },
  {
   "cell_type": "code",
   "execution_count": null,
   "metadata": {},
   "outputs": [],
   "source": [
    "import os, numpy as np, matplotlib.pyplot as plt\n",
    "from keras.preprocessing import image\n",
    "\n",
    "daftar_file = os.listdir('evaluasi')\n",
    "daftar_file_urut = sorted(daftar_file, key=lambda x: int(os.path.splitext(x)[0]))\n",
    "\n",
    "if os.path.exists('evaluasi'):\n",
    "    for file in daftar_file_urut:\n",
    "        nama_file = 'evaluasi/' + file \n",
    "\n",
    "        display = image.load_img(nama_file, target_size=None)\n",
    "        plt.imshow(display)\n",
    "\n",
    "        img = image.load_img(nama_file, target_size=(50, 50))\n",
    "\n",
    "        img_array = image.img_to_array(img)\n",
    "        img_array = np.expand_dims(img_array, axis=0)\n",
    "\n",
    "        predictions = model.predict(img_array)\n",
    "\n",
    "        if predictions[0][0] > 0.5:\n",
    "            plt.xlabel(f'KURA - KURA', fontsize=15)\n",
    "        else:\n",
    "            plt.xlabel(f'BUAYA', fontsize=15)\n",
    "        plt.show()\n",
    "else :\n",
    "    print('Silahkan buat folder evaluasi dan isi dengan gambar buaya dan kura kura acak terlebih dulu')\n",
    "    exit"
   ]
  }
 ],
 "metadata": {
  "kernelspec": {
   "display_name": "Python 3",
   "language": "python",
   "name": "python3"
  },
  "language_info": {
   "codemirror_mode": {
    "name": "ipython",
    "version": 3
   },
   "file_extension": ".py",
   "mimetype": "text/x-python",
   "name": "python",
   "nbconvert_exporter": "python",
   "pygments_lexer": "ipython3",
   "version": "3.11.8"
  }
 },
 "nbformat": 4,
 "nbformat_minor": 2
}
