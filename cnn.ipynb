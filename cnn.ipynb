{
 "cells": [
  {
   "cell_type": "markdown",
   "metadata": {},
   "source": [
    "# PERSIAPKAN DATA"
   ]
  },
  {
   "cell_type": "markdown",
   "metadata": {},
   "source": [
    "Membersihkan Lingkungan Dari Data Sebelumnya"
   ]
  },
  {
   "cell_type": "code",
   "execution_count": null,
   "metadata": {},
   "outputs": [],
   "source": [
    "import os, shutil\n",
    "\n",
    "if os.path.exists('data.zip'): os.remove('data.zip')\n",
    "if os.path.exists('data'): shutil.rmtree('data')"
   ]
  },
  {
   "cell_type": "markdown",
   "metadata": {},
   "source": [
    "Download Data Yang Akan Dijadikan Dataset"
   ]
  },
  {
   "cell_type": "code",
   "execution_count": null,
   "metadata": {},
   "outputs": [],
   "source": [
    "import os, gdown\n",
    "from zipfile import ZipFile\n",
    "\n",
    "gdown.download('https://drive.google.com/uc?id=1w4p9ugXJrUV-qmxt6UyJZLAzj0uefIvZ', 'data.zip', quiet=False)\n",
    "\n",
    "if not os.path.exists('data'): os.makedirs(\"data\")\n",
    "\n",
    "with ZipFile('data.zip', 'r') as zObject:\n",
    "\tzObject.extractall('data')"
   ]
  },
  {
   "cell_type": "markdown",
   "metadata": {},
   "source": [
    "# AUGMENTASI GAMBAR"
   ]
  },
  {
   "cell_type": "markdown",
   "metadata": {},
   "source": [
    "Generator untuk membuat gambar menjadi lebih variatif dan menentukan besar data yang digunakan untuk validasi"
   ]
  },
  {
   "cell_type": "code",
   "execution_count": null,
   "metadata": {},
   "outputs": [],
   "source": [
    "from tensorflow.keras.preprocessing.image import ImageDataGenerator\n",
    "\n",
    "datagen = ImageDataGenerator(\n",
    "    rescale = 1./255,\n",
    "    rotation_range = 20,\n",
    "    horizontal_flip = True,\n",
    "    shear_range = 0.2,\n",
    "    fill_mode = 'nearest',\n",
    "    validation_split = 0.2\n",
    ")"
   ]
  },
  {
   "cell_type": "markdown",
   "metadata": {},
   "source": [
    "# DATASET"
   ]
  },
  {
   "cell_type": "markdown",
   "metadata": {},
   "source": [
    "Ubah Data Menjadi Dataset Training & Validation"
   ]
  },
  {
   "cell_type": "code",
   "execution_count": null,
   "metadata": {},
   "outputs": [],
   "source": [
    "lokasi = 'data'\n",
    "\n",
    "training = datagen.flow_from_directory(\n",
    "    lokasi,\n",
    "    target_size = (50, 50),\n",
    "    class_mode = 'binary',\n",
    "    subset = 'training'\n",
    ")\n",
    "\n",
    "validation = datagen.flow_from_directory(\n",
    "    lokasi,\n",
    "    target_size = (50, 50),\n",
    "    class_mode = 'binary',\n",
    "    subset = 'validation'\n",
    ")"
   ]
  },
  {
   "cell_type": "markdown",
   "metadata": {},
   "source": [
    "# MODEL CNN"
   ]
  },
  {
   "cell_type": "markdown",
   "metadata": {},
   "source": [
    "Build Model Sequential Untuk Klasifikasi 2 Gambar (biner) dengan 3 layer neuron dan 1 output"
   ]
  },
  {
   "cell_type": "code",
   "execution_count": null,
   "metadata": {},
   "outputs": [],
   "source": [
    "from tensorflow import keras\n",
    "\n",
    "model = keras.Sequential()\n",
    "\n",
    "model.add(keras.layers.Conv2D(32, (3, 3), activation='relu', input_shape=(50, 50, 3)))\n",
    "model.add(keras.layers.MaxPool2D(2, 2))\n",
    "model.add(keras.layers.Dropout(0.25))\n",
    "\n",
    "model.add(keras.layers.Conv2D(64, (3, 3), activation='relu'))\n",
    "model.add(keras.layers.MaxPool2D(2, 2))\n",
    "model.add(keras.layers.Dropout(0.25))\n",
    "\n",
    "model.add(keras.layers.Conv2D(128, (3, 3), activation='relu'))\n",
    "model.add(keras.layers.MaxPool2D(2, 2))\n",
    "model.add(keras.layers.Dropout(0.25))\n",
    "\n",
    "model.add(keras.layers.Flatten())\n",
    "model.add(keras.layers.BatchNormalization())\n",
    "\n",
    "model.add(keras.layers.Dense(256, activation='relu'))\n",
    "model.add(keras.layers.Dense(1, activation='sigmoid'))\n",
    "\n",
    "model.summary()\n",
    "\n",
    "model.compile(optimizer='adam', loss='binary_crossentropy', metrics=['accuracy'])"
   ]
  },
  {
   "cell_type": "markdown",
   "metadata": {},
   "source": [
    "# LATIH"
   ]
  },
  {
   "cell_type": "markdown",
   "metadata": {},
   "source": [
    "Model Yang Sudah Dibuat Dilatih Memakai Dataset Training Dan Validation"
   ]
  },
  {
   "cell_type": "code",
   "execution_count": null,
   "metadata": {},
   "outputs": [],
   "source": [
    "import tensorflow as tf\n",
    "\n",
    "accuracy_threshold = 85e-2\n",
    "class my_callbacks(tf.keras.callbacks.Callback):\n",
    "    def on_epoch_end(self, epoch, logs = None):\n",
    "        if logs.get('val_accuracy') >= accuracy_threshold:\n",
    "            self.model.stop_training = True\n",
    "            \n",
    "history = model.fit(training, steps_per_epoch=64, epochs=100, validation_data=validation, callbacks=[my_callbacks()])"
   ]
  },
  {
   "cell_type": "markdown",
   "metadata": {},
   "source": [
    "Grafik Riwayat Pelatihan"
   ]
  },
  {
   "cell_type": "code",
   "execution_count": null,
   "metadata": {},
   "outputs": [],
   "source": [
    "import matplotlib.pyplot as plt\n",
    "\n",
    "accuracy = history.history['val_accuracy']\n",
    "loss = history.history['val_loss']\n",
    "\n",
    "plt.plot(accuracy, color='blue', label='Akurasi')\n",
    "plt.plot(loss, color='red', label='Loss')\n",
    "plt.xlabel('Epoch')\n",
    "plt.ylabel('Nilai')\n",
    "plt.title('Riwayat Pelatihan Model')\n",
    "plt.legend()\n",
    "plt.show()"
   ]
  },
  {
   "cell_type": "markdown",
   "metadata": {},
   "source": [
    "Cek Akurasi Model"
   ]
  },
  {
   "cell_type": "code",
   "execution_count": null,
   "metadata": {},
   "outputs": [],
   "source": [
    "eval_result = model.evaluate(validation)\n",
    "\n",
    "accuracy = eval_result[1]\n",
    "print(f'\\nAkurasi Model: {accuracy * 100:.2f} %')"
   ]
  },
  {
   "cell_type": "markdown",
   "metadata": {},
   "source": [
    "# Evaluasi"
   ]
  },
  {
   "cell_type": "markdown",
   "metadata": {},
   "source": [
    "Menguji Model Dengan Berbagai Kemungkinan Gambar Di Luar Dataset"
   ]
  },
  {
   "cell_type": "code",
   "execution_count": null,
   "metadata": {},
   "outputs": [],
   "source": [
    "import os, numpy as np, matplotlib.pyplot as plt\n",
    "from keras.preprocessing import image\n",
    "\n",
    "daftar_file = os.listdir('evaluasi')\n",
    "daftar_file_urut = sorted(daftar_file, key=lambda x: int(os.path.splitext(x)[0]))\n",
    "\n",
    "if os.path.exists('evaluasi'):\n",
    "    for file in daftar_file_urut:\n",
    "        nama_file = 'evaluasi/' + file \n",
    "\n",
    "        display = image.load_img(nama_file, target_size=None)\n",
    "        plt.imshow(display)\n",
    "\n",
    "        img = image.load_img(nama_file, target_size=(50, 50))\n",
    "\n",
    "        img_array = image.img_to_array(img)\n",
    "        img_array = np.expand_dims(img_array, axis=0)\n",
    "\n",
    "        predictions = model.predict(img_array)\n",
    "\n",
    "        if predictions[0][0] > 0.5:\n",
    "            plt.xlabel(f'KURA - KURA', fontsize=15)\n",
    "        else:\n",
    "            plt.xlabel(f'BUAYA', fontsize=15)\n",
    "        plt.show()\n",
    "else :\n",
    "    print('Silahkan buat folder evaluasi dan isi dengan gambar buaya dan kura kura acak terlebih dulu')\n",
    "    exit"
   ]
  }
 ],
 "metadata": {
  "kernelspec": {
   "display_name": "Python 3",
   "language": "python",
   "name": "python3"
  },
  "language_info": {
   "codemirror_mode": {
    "name": "ipython",
    "version": 3
   },
   "file_extension": ".py",
   "mimetype": "text/x-python",
   "name": "python",
   "nbconvert_exporter": "python",
   "pygments_lexer": "ipython3",
   "version": "3.11.8"
  }
 },
 "nbformat": 4,
 "nbformat_minor": 2
}
