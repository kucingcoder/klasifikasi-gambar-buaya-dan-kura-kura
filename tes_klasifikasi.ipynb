{
 "cells": [
  {
   "cell_type": "markdown",
   "metadata": {},
   "source": [
    "# MEMUAT MODEL YANG SUDAH DI TRAINING"
   ]
  },
  {
   "cell_type": "markdown",
   "metadata": {},
   "source": [
    "Buat model dari file keras (model yang sudah ditraining sebelumnya)"
   ]
  },
  {
   "cell_type": "code",
   "execution_count": null,
   "metadata": {},
   "outputs": [],
   "source": [
    "from keras.models import load_model\n",
    "\n",
    "model = load_model('klasifikasi_buaya_dan_kura_kura.keras')"
   ]
  },
  {
   "cell_type": "markdown",
   "metadata": {},
   "source": [
    "# KLASIFIKASI GAMBAR DENGAN MODEL"
   ]
  },
  {
   "cell_type": "markdown",
   "metadata": {},
   "source": [
    "Tebak Nama Hewan Memakai Model Yang Sudah Di Training"
   ]
  },
  {
   "cell_type": "code",
   "execution_count": null,
   "metadata": {},
   "outputs": [],
   "source": [
    "import os, numpy as np, matplotlib.pyplot as plt\n",
    "from keras.preprocessing import image\n",
    "\n",
    "daftar_file = os.listdir('evaluasi')\n",
    "daftar_file_urut = sorted(daftar_file, key=lambda x: int(os.path.splitext(x)[0]))\n",
    "\n",
    "if os.path.exists('evaluasi'):\n",
    "    for file in daftar_file_urut:\n",
    "        nama_file = 'evaluasi/' + file \n",
    "\n",
    "        display = image.load_img(nama_file, target_size=None)\n",
    "        plt.imshow(display)\n",
    "\n",
    "        img = image.load_img(nama_file, target_size=(50, 50))\n",
    "\n",
    "        img_array = image.img_to_array(img)\n",
    "        img_array = np.expand_dims(img_array, axis=0)\n",
    "\n",
    "        predictions = model.predict(img_array)\n",
    "\n",
    "        if predictions[0][0] > 0.5:\n",
    "            plt.xlabel(f'KURA - KURA', fontsize=15)\n",
    "        else:\n",
    "            plt.xlabel(f'BUAYA', fontsize=15)\n",
    "        plt.show()\n",
    "else :\n",
    "    print('Silahkan buat folder evaluasi dan isi dengan gambar buaya dan kura kura acak terlebih dulu')\n",
    "    exit"
   ]
  }
 ],
 "metadata": {
  "kernelspec": {
   "display_name": "Python 3",
   "language": "python",
   "name": "python3"
  },
  "language_info": {
   "codemirror_mode": {
    "name": "ipython",
    "version": 3
   },
   "file_extension": ".py",
   "mimetype": "text/x-python",
   "name": "python",
   "nbconvert_exporter": "python",
   "pygments_lexer": "ipython3",
   "version": "3.11.8"
  }
 },
 "nbformat": 4,
 "nbformat_minor": 2
}
